{
 "cells": [
  {
   "cell_type": "markdown",
   "id": "revolutionary-manner",
   "metadata": {},
   "source": [
    "# Heart Disease"
   ]
  },
  {
   "cell_type": "markdown",
   "id": "august-sacramento",
   "metadata": {},
   "source": [
    "### Step-1: Load all usefull libraries"
   ]
  },
  {
   "cell_type": "code",
   "execution_count": 1,
   "id": "brutal-picture",
   "metadata": {},
   "outputs": [
    {
     "name": "stdout",
     "output_type": "stream",
     "text": [
      "Setup Completed\n"
     ]
    }
   ],
   "source": [
    "# basic libraries \n",
    "import pandas as pd \n",
    "import numpy as np\n",
    "\n",
    "# plotting libraries\n",
    "import seaborn as sns\n",
    "sns.set()\n",
    "import matplotlib.pyplot as plt\n",
    "%matplotlib inline\n",
    "from matplotlib import style\n",
    "\n",
    "# sklearn for label encoding\n",
    "import sklearn as sl\n",
    "import itertools\n",
    "print(\"Setup Completed\")\n"
   ]
  },
  {
   "cell_type": "markdown",
   "id": "important-authorization",
   "metadata": {},
   "source": [
    "### load all data "
   ]
  },
  {
   "cell_type": "code",
   "execution_count": 2,
   "id": "about-anatomy",
   "metadata": {},
   "outputs": [],
   "source": [
    "file = (\"/home/dp/Documents/Heart disease prediction/Heart_Disease_Prediction.csv\") #file path\n",
    "df = pd.read_csv(file) # load csv file "
   ]
  },
  {
   "cell_type": "code",
   "execution_count": 3,
   "id": "guided-bunch",
   "metadata": {},
   "outputs": [
    {
     "data": {
      "text/html": [
       "<div>\n",
       "<style scoped>\n",
       "    .dataframe tbody tr th:only-of-type {\n",
       "        vertical-align: middle;\n",
       "    }\n",
       "\n",
       "    .dataframe tbody tr th {\n",
       "        vertical-align: top;\n",
       "    }\n",
       "\n",
       "    .dataframe thead th {\n",
       "        text-align: right;\n",
       "    }\n",
       "</style>\n",
       "<table border=\"1\" class=\"dataframe\">\n",
       "  <thead>\n",
       "    <tr style=\"text-align: right;\">\n",
       "      <th></th>\n",
       "      <th>Age</th>\n",
       "      <th>Sex</th>\n",
       "      <th>Chest pain type</th>\n",
       "      <th>BP</th>\n",
       "      <th>Cholesterol</th>\n",
       "      <th>FBS over 120</th>\n",
       "      <th>EKG results</th>\n",
       "      <th>Max HR</th>\n",
       "      <th>Exercise angina</th>\n",
       "      <th>ST depression</th>\n",
       "      <th>Slope of ST</th>\n",
       "      <th>Number of vessels fluro</th>\n",
       "      <th>Thallium</th>\n",
       "      <th>Heart Disease</th>\n",
       "    </tr>\n",
       "  </thead>\n",
       "  <tbody>\n",
       "    <tr>\n",
       "      <th>0</th>\n",
       "      <td>70</td>\n",
       "      <td>1</td>\n",
       "      <td>4</td>\n",
       "      <td>130</td>\n",
       "      <td>322</td>\n",
       "      <td>0</td>\n",
       "      <td>2</td>\n",
       "      <td>109</td>\n",
       "      <td>0</td>\n",
       "      <td>2.4</td>\n",
       "      <td>2</td>\n",
       "      <td>3</td>\n",
       "      <td>3</td>\n",
       "      <td>Presence</td>\n",
       "    </tr>\n",
       "    <tr>\n",
       "      <th>1</th>\n",
       "      <td>67</td>\n",
       "      <td>0</td>\n",
       "      <td>3</td>\n",
       "      <td>115</td>\n",
       "      <td>564</td>\n",
       "      <td>0</td>\n",
       "      <td>2</td>\n",
       "      <td>160</td>\n",
       "      <td>0</td>\n",
       "      <td>1.6</td>\n",
       "      <td>2</td>\n",
       "      <td>0</td>\n",
       "      <td>7</td>\n",
       "      <td>Absence</td>\n",
       "    </tr>\n",
       "    <tr>\n",
       "      <th>2</th>\n",
       "      <td>57</td>\n",
       "      <td>1</td>\n",
       "      <td>2</td>\n",
       "      <td>124</td>\n",
       "      <td>261</td>\n",
       "      <td>0</td>\n",
       "      <td>0</td>\n",
       "      <td>141</td>\n",
       "      <td>0</td>\n",
       "      <td>0.3</td>\n",
       "      <td>1</td>\n",
       "      <td>0</td>\n",
       "      <td>7</td>\n",
       "      <td>Presence</td>\n",
       "    </tr>\n",
       "    <tr>\n",
       "      <th>3</th>\n",
       "      <td>64</td>\n",
       "      <td>1</td>\n",
       "      <td>4</td>\n",
       "      <td>128</td>\n",
       "      <td>263</td>\n",
       "      <td>0</td>\n",
       "      <td>0</td>\n",
       "      <td>105</td>\n",
       "      <td>1</td>\n",
       "      <td>0.2</td>\n",
       "      <td>2</td>\n",
       "      <td>1</td>\n",
       "      <td>7</td>\n",
       "      <td>Absence</td>\n",
       "    </tr>\n",
       "    <tr>\n",
       "      <th>4</th>\n",
       "      <td>74</td>\n",
       "      <td>0</td>\n",
       "      <td>2</td>\n",
       "      <td>120</td>\n",
       "      <td>269</td>\n",
       "      <td>0</td>\n",
       "      <td>2</td>\n",
       "      <td>121</td>\n",
       "      <td>1</td>\n",
       "      <td>0.2</td>\n",
       "      <td>1</td>\n",
       "      <td>1</td>\n",
       "      <td>3</td>\n",
       "      <td>Absence</td>\n",
       "    </tr>\n",
       "    <tr>\n",
       "      <th>5</th>\n",
       "      <td>65</td>\n",
       "      <td>1</td>\n",
       "      <td>4</td>\n",
       "      <td>120</td>\n",
       "      <td>177</td>\n",
       "      <td>0</td>\n",
       "      <td>0</td>\n",
       "      <td>140</td>\n",
       "      <td>0</td>\n",
       "      <td>0.4</td>\n",
       "      <td>1</td>\n",
       "      <td>0</td>\n",
       "      <td>7</td>\n",
       "      <td>Absence</td>\n",
       "    </tr>\n",
       "    <tr>\n",
       "      <th>6</th>\n",
       "      <td>56</td>\n",
       "      <td>1</td>\n",
       "      <td>3</td>\n",
       "      <td>130</td>\n",
       "      <td>256</td>\n",
       "      <td>1</td>\n",
       "      <td>2</td>\n",
       "      <td>142</td>\n",
       "      <td>1</td>\n",
       "      <td>0.6</td>\n",
       "      <td>2</td>\n",
       "      <td>1</td>\n",
       "      <td>6</td>\n",
       "      <td>Presence</td>\n",
       "    </tr>\n",
       "    <tr>\n",
       "      <th>7</th>\n",
       "      <td>59</td>\n",
       "      <td>1</td>\n",
       "      <td>4</td>\n",
       "      <td>110</td>\n",
       "      <td>239</td>\n",
       "      <td>0</td>\n",
       "      <td>2</td>\n",
       "      <td>142</td>\n",
       "      <td>1</td>\n",
       "      <td>1.2</td>\n",
       "      <td>2</td>\n",
       "      <td>1</td>\n",
       "      <td>7</td>\n",
       "      <td>Presence</td>\n",
       "    </tr>\n",
       "    <tr>\n",
       "      <th>8</th>\n",
       "      <td>60</td>\n",
       "      <td>1</td>\n",
       "      <td>4</td>\n",
       "      <td>140</td>\n",
       "      <td>293</td>\n",
       "      <td>0</td>\n",
       "      <td>2</td>\n",
       "      <td>170</td>\n",
       "      <td>0</td>\n",
       "      <td>1.2</td>\n",
       "      <td>2</td>\n",
       "      <td>2</td>\n",
       "      <td>7</td>\n",
       "      <td>Presence</td>\n",
       "    </tr>\n",
       "    <tr>\n",
       "      <th>9</th>\n",
       "      <td>63</td>\n",
       "      <td>0</td>\n",
       "      <td>4</td>\n",
       "      <td>150</td>\n",
       "      <td>407</td>\n",
       "      <td>0</td>\n",
       "      <td>2</td>\n",
       "      <td>154</td>\n",
       "      <td>0</td>\n",
       "      <td>4.0</td>\n",
       "      <td>2</td>\n",
       "      <td>3</td>\n",
       "      <td>7</td>\n",
       "      <td>Presence</td>\n",
       "    </tr>\n",
       "    <tr>\n",
       "      <th>10</th>\n",
       "      <td>59</td>\n",
       "      <td>1</td>\n",
       "      <td>4</td>\n",
       "      <td>135</td>\n",
       "      <td>234</td>\n",
       "      <td>0</td>\n",
       "      <td>0</td>\n",
       "      <td>161</td>\n",
       "      <td>0</td>\n",
       "      <td>0.5</td>\n",
       "      <td>2</td>\n",
       "      <td>0</td>\n",
       "      <td>7</td>\n",
       "      <td>Absence</td>\n",
       "    </tr>\n",
       "    <tr>\n",
       "      <th>11</th>\n",
       "      <td>53</td>\n",
       "      <td>1</td>\n",
       "      <td>4</td>\n",
       "      <td>142</td>\n",
       "      <td>226</td>\n",
       "      <td>0</td>\n",
       "      <td>2</td>\n",
       "      <td>111</td>\n",
       "      <td>1</td>\n",
       "      <td>0.0</td>\n",
       "      <td>1</td>\n",
       "      <td>0</td>\n",
       "      <td>7</td>\n",
       "      <td>Absence</td>\n",
       "    </tr>\n",
       "    <tr>\n",
       "      <th>12</th>\n",
       "      <td>44</td>\n",
       "      <td>1</td>\n",
       "      <td>3</td>\n",
       "      <td>140</td>\n",
       "      <td>235</td>\n",
       "      <td>0</td>\n",
       "      <td>2</td>\n",
       "      <td>180</td>\n",
       "      <td>0</td>\n",
       "      <td>0.0</td>\n",
       "      <td>1</td>\n",
       "      <td>0</td>\n",
       "      <td>3</td>\n",
       "      <td>Absence</td>\n",
       "    </tr>\n",
       "    <tr>\n",
       "      <th>13</th>\n",
       "      <td>61</td>\n",
       "      <td>1</td>\n",
       "      <td>1</td>\n",
       "      <td>134</td>\n",
       "      <td>234</td>\n",
       "      <td>0</td>\n",
       "      <td>0</td>\n",
       "      <td>145</td>\n",
       "      <td>0</td>\n",
       "      <td>2.6</td>\n",
       "      <td>2</td>\n",
       "      <td>2</td>\n",
       "      <td>3</td>\n",
       "      <td>Presence</td>\n",
       "    </tr>\n",
       "    <tr>\n",
       "      <th>14</th>\n",
       "      <td>57</td>\n",
       "      <td>0</td>\n",
       "      <td>4</td>\n",
       "      <td>128</td>\n",
       "      <td>303</td>\n",
       "      <td>0</td>\n",
       "      <td>2</td>\n",
       "      <td>159</td>\n",
       "      <td>0</td>\n",
       "      <td>0.0</td>\n",
       "      <td>1</td>\n",
       "      <td>1</td>\n",
       "      <td>3</td>\n",
       "      <td>Absence</td>\n",
       "    </tr>\n",
       "  </tbody>\n",
       "</table>\n",
       "</div>"
      ],
      "text/plain": [
       "    Age  Sex  Chest pain type   BP  Cholesterol  FBS over 120  EKG results  \\\n",
       "0    70    1                4  130          322             0            2   \n",
       "1    67    0                3  115          564             0            2   \n",
       "2    57    1                2  124          261             0            0   \n",
       "3    64    1                4  128          263             0            0   \n",
       "4    74    0                2  120          269             0            2   \n",
       "5    65    1                4  120          177             0            0   \n",
       "6    56    1                3  130          256             1            2   \n",
       "7    59    1                4  110          239             0            2   \n",
       "8    60    1                4  140          293             0            2   \n",
       "9    63    0                4  150          407             0            2   \n",
       "10   59    1                4  135          234             0            0   \n",
       "11   53    1                4  142          226             0            2   \n",
       "12   44    1                3  140          235             0            2   \n",
       "13   61    1                1  134          234             0            0   \n",
       "14   57    0                4  128          303             0            2   \n",
       "\n",
       "    Max HR  Exercise angina  ST depression  Slope of ST  \\\n",
       "0      109                0            2.4            2   \n",
       "1      160                0            1.6            2   \n",
       "2      141                0            0.3            1   \n",
       "3      105                1            0.2            2   \n",
       "4      121                1            0.2            1   \n",
       "5      140                0            0.4            1   \n",
       "6      142                1            0.6            2   \n",
       "7      142                1            1.2            2   \n",
       "8      170                0            1.2            2   \n",
       "9      154                0            4.0            2   \n",
       "10     161                0            0.5            2   \n",
       "11     111                1            0.0            1   \n",
       "12     180                0            0.0            1   \n",
       "13     145                0            2.6            2   \n",
       "14     159                0            0.0            1   \n",
       "\n",
       "    Number of vessels fluro  Thallium Heart Disease  \n",
       "0                         3         3      Presence  \n",
       "1                         0         7       Absence  \n",
       "2                         0         7      Presence  \n",
       "3                         1         7       Absence  \n",
       "4                         1         3       Absence  \n",
       "5                         0         7       Absence  \n",
       "6                         1         6      Presence  \n",
       "7                         1         7      Presence  \n",
       "8                         2         7      Presence  \n",
       "9                         3         7      Presence  \n",
       "10                        0         7       Absence  \n",
       "11                        0         7       Absence  \n",
       "12                        0         3       Absence  \n",
       "13                        2         3      Presence  \n",
       "14                        1         3       Absence  "
      ]
     },
     "execution_count": 3,
     "metadata": {},
     "output_type": "execute_result"
    }
   ],
   "source": [
    "df.head(15) # statisical data view"
   ]
  },
  {
   "cell_type": "code",
   "execution_count": 4,
   "id": "caroline-filename",
   "metadata": {},
   "outputs": [
    {
     "data": {
      "text/plain": [
       "Index(['Age', 'Sex', 'Chest pain type', 'BP', 'Cholesterol', 'FBS over 120',\n",
       "       'EKG results', 'Max HR', 'Exercise angina', 'ST depression',\n",
       "       'Slope of ST', 'Number of vessels fluro', 'Thallium', 'Heart Disease'],\n",
       "      dtype='object')"
      ]
     },
     "execution_count": 4,
     "metadata": {},
     "output_type": "execute_result"
    }
   ],
   "source": [
    "df.columns # no. of attributes in dataset"
   ]
  },
  {
   "cell_type": "code",
   "execution_count": 5,
   "id": "sublime-validity",
   "metadata": {},
   "outputs": [
    {
     "data": {
      "text/html": [
       "<div>\n",
       "<style scoped>\n",
       "    .dataframe tbody tr th:only-of-type {\n",
       "        vertical-align: middle;\n",
       "    }\n",
       "\n",
       "    .dataframe tbody tr th {\n",
       "        vertical-align: top;\n",
       "    }\n",
       "\n",
       "    .dataframe thead th {\n",
       "        text-align: right;\n",
       "    }\n",
       "</style>\n",
       "<table border=\"1\" class=\"dataframe\">\n",
       "  <thead>\n",
       "    <tr style=\"text-align: right;\">\n",
       "      <th></th>\n",
       "      <th>Age</th>\n",
       "      <th>Sex</th>\n",
       "      <th>Chest pain type</th>\n",
       "      <th>BP</th>\n",
       "      <th>Cholesterol</th>\n",
       "      <th>FBS over 120</th>\n",
       "      <th>EKG results</th>\n",
       "      <th>Max HR</th>\n",
       "      <th>Exercise angina</th>\n",
       "      <th>ST depression</th>\n",
       "      <th>Slope of ST</th>\n",
       "      <th>Number of vessels fluro</th>\n",
       "      <th>Thallium</th>\n",
       "    </tr>\n",
       "  </thead>\n",
       "  <tbody>\n",
       "    <tr>\n",
       "      <th>count</th>\n",
       "      <td>270.000000</td>\n",
       "      <td>270.000000</td>\n",
       "      <td>270.000000</td>\n",
       "      <td>270.000000</td>\n",
       "      <td>270.000000</td>\n",
       "      <td>270.000000</td>\n",
       "      <td>270.000000</td>\n",
       "      <td>270.000000</td>\n",
       "      <td>270.000000</td>\n",
       "      <td>270.00000</td>\n",
       "      <td>270.000000</td>\n",
       "      <td>270.000000</td>\n",
       "      <td>270.000000</td>\n",
       "    </tr>\n",
       "    <tr>\n",
       "      <th>mean</th>\n",
       "      <td>54.433333</td>\n",
       "      <td>0.677778</td>\n",
       "      <td>3.174074</td>\n",
       "      <td>131.344444</td>\n",
       "      <td>249.659259</td>\n",
       "      <td>0.148148</td>\n",
       "      <td>1.022222</td>\n",
       "      <td>149.677778</td>\n",
       "      <td>0.329630</td>\n",
       "      <td>1.05000</td>\n",
       "      <td>1.585185</td>\n",
       "      <td>0.670370</td>\n",
       "      <td>4.696296</td>\n",
       "    </tr>\n",
       "    <tr>\n",
       "      <th>std</th>\n",
       "      <td>9.109067</td>\n",
       "      <td>0.468195</td>\n",
       "      <td>0.950090</td>\n",
       "      <td>17.861608</td>\n",
       "      <td>51.686237</td>\n",
       "      <td>0.355906</td>\n",
       "      <td>0.997891</td>\n",
       "      <td>23.165717</td>\n",
       "      <td>0.470952</td>\n",
       "      <td>1.14521</td>\n",
       "      <td>0.614390</td>\n",
       "      <td>0.943896</td>\n",
       "      <td>1.940659</td>\n",
       "    </tr>\n",
       "    <tr>\n",
       "      <th>min</th>\n",
       "      <td>29.000000</td>\n",
       "      <td>0.000000</td>\n",
       "      <td>1.000000</td>\n",
       "      <td>94.000000</td>\n",
       "      <td>126.000000</td>\n",
       "      <td>0.000000</td>\n",
       "      <td>0.000000</td>\n",
       "      <td>71.000000</td>\n",
       "      <td>0.000000</td>\n",
       "      <td>0.00000</td>\n",
       "      <td>1.000000</td>\n",
       "      <td>0.000000</td>\n",
       "      <td>3.000000</td>\n",
       "    </tr>\n",
       "    <tr>\n",
       "      <th>25%</th>\n",
       "      <td>48.000000</td>\n",
       "      <td>0.000000</td>\n",
       "      <td>3.000000</td>\n",
       "      <td>120.000000</td>\n",
       "      <td>213.000000</td>\n",
       "      <td>0.000000</td>\n",
       "      <td>0.000000</td>\n",
       "      <td>133.000000</td>\n",
       "      <td>0.000000</td>\n",
       "      <td>0.00000</td>\n",
       "      <td>1.000000</td>\n",
       "      <td>0.000000</td>\n",
       "      <td>3.000000</td>\n",
       "    </tr>\n",
       "    <tr>\n",
       "      <th>50%</th>\n",
       "      <td>55.000000</td>\n",
       "      <td>1.000000</td>\n",
       "      <td>3.000000</td>\n",
       "      <td>130.000000</td>\n",
       "      <td>245.000000</td>\n",
       "      <td>0.000000</td>\n",
       "      <td>2.000000</td>\n",
       "      <td>153.500000</td>\n",
       "      <td>0.000000</td>\n",
       "      <td>0.80000</td>\n",
       "      <td>2.000000</td>\n",
       "      <td>0.000000</td>\n",
       "      <td>3.000000</td>\n",
       "    </tr>\n",
       "    <tr>\n",
       "      <th>75%</th>\n",
       "      <td>61.000000</td>\n",
       "      <td>1.000000</td>\n",
       "      <td>4.000000</td>\n",
       "      <td>140.000000</td>\n",
       "      <td>280.000000</td>\n",
       "      <td>0.000000</td>\n",
       "      <td>2.000000</td>\n",
       "      <td>166.000000</td>\n",
       "      <td>1.000000</td>\n",
       "      <td>1.60000</td>\n",
       "      <td>2.000000</td>\n",
       "      <td>1.000000</td>\n",
       "      <td>7.000000</td>\n",
       "    </tr>\n",
       "    <tr>\n",
       "      <th>max</th>\n",
       "      <td>77.000000</td>\n",
       "      <td>1.000000</td>\n",
       "      <td>4.000000</td>\n",
       "      <td>200.000000</td>\n",
       "      <td>564.000000</td>\n",
       "      <td>1.000000</td>\n",
       "      <td>2.000000</td>\n",
       "      <td>202.000000</td>\n",
       "      <td>1.000000</td>\n",
       "      <td>6.20000</td>\n",
       "      <td>3.000000</td>\n",
       "      <td>3.000000</td>\n",
       "      <td>7.000000</td>\n",
       "    </tr>\n",
       "  </tbody>\n",
       "</table>\n",
       "</div>"
      ],
      "text/plain": [
       "              Age         Sex  Chest pain type          BP  Cholesterol  \\\n",
       "count  270.000000  270.000000       270.000000  270.000000   270.000000   \n",
       "mean    54.433333    0.677778         3.174074  131.344444   249.659259   \n",
       "std      9.109067    0.468195         0.950090   17.861608    51.686237   \n",
       "min     29.000000    0.000000         1.000000   94.000000   126.000000   \n",
       "25%     48.000000    0.000000         3.000000  120.000000   213.000000   \n",
       "50%     55.000000    1.000000         3.000000  130.000000   245.000000   \n",
       "75%     61.000000    1.000000         4.000000  140.000000   280.000000   \n",
       "max     77.000000    1.000000         4.000000  200.000000   564.000000   \n",
       "\n",
       "       FBS over 120  EKG results      Max HR  Exercise angina  ST depression  \\\n",
       "count    270.000000   270.000000  270.000000       270.000000      270.00000   \n",
       "mean       0.148148     1.022222  149.677778         0.329630        1.05000   \n",
       "std        0.355906     0.997891   23.165717         0.470952        1.14521   \n",
       "min        0.000000     0.000000   71.000000         0.000000        0.00000   \n",
       "25%        0.000000     0.000000  133.000000         0.000000        0.00000   \n",
       "50%        0.000000     2.000000  153.500000         0.000000        0.80000   \n",
       "75%        0.000000     2.000000  166.000000         1.000000        1.60000   \n",
       "max        1.000000     2.000000  202.000000         1.000000        6.20000   \n",
       "\n",
       "       Slope of ST  Number of vessels fluro    Thallium  \n",
       "count   270.000000               270.000000  270.000000  \n",
       "mean      1.585185                 0.670370    4.696296  \n",
       "std       0.614390                 0.943896    1.940659  \n",
       "min       1.000000                 0.000000    3.000000  \n",
       "25%       1.000000                 0.000000    3.000000  \n",
       "50%       2.000000                 0.000000    3.000000  \n",
       "75%       2.000000                 1.000000    7.000000  \n",
       "max       3.000000                 3.000000    7.000000  "
      ]
     },
     "execution_count": 5,
     "metadata": {},
     "output_type": "execute_result"
    }
   ],
   "source": [
    "df.describe() #statistical data analysis"
   ]
  },
  {
   "cell_type": "code",
   "execution_count": 6,
   "id": "critical-breath",
   "metadata": {
    "scrolled": false
   },
   "outputs": [
    {
     "name": "stdout",
     "output_type": "stream",
     "text": [
      "<class 'pandas.core.frame.DataFrame'>\n",
      "RangeIndex: 270 entries, 0 to 269\n",
      "Data columns (total 14 columns):\n",
      " #   Column                   Non-Null Count  Dtype  \n",
      "---  ------                   --------------  -----  \n",
      " 0   Age                      270 non-null    int64  \n",
      " 1   Sex                      270 non-null    int64  \n",
      " 2   Chest pain type          270 non-null    int64  \n",
      " 3   BP                       270 non-null    int64  \n",
      " 4   Cholesterol              270 non-null    int64  \n",
      " 5   FBS over 120             270 non-null    int64  \n",
      " 6   EKG results              270 non-null    int64  \n",
      " 7   Max HR                   270 non-null    int64  \n",
      " 8   Exercise angina          270 non-null    int64  \n",
      " 9   ST depression            270 non-null    float64\n",
      " 10  Slope of ST              270 non-null    int64  \n",
      " 11  Number of vessels fluro  270 non-null    int64  \n",
      " 12  Thallium                 270 non-null    int64  \n",
      " 13  Heart Disease            270 non-null    object \n",
      "dtypes: float64(1), int64(12), object(1)\n",
      "memory usage: 29.7+ KB\n"
     ]
    }
   ],
   "source": [
    "df.info() #dataset basic information"
   ]
  },
  {
   "cell_type": "markdown",
   "id": "structured-editing",
   "metadata": {},
   "source": [
    "### convert Heart Disease data from object to binary digits using LabelEncoder."
   ]
  },
  {
   "cell_type": "code",
   "execution_count": 7,
   "id": "comic-burlington",
   "metadata": {},
   "outputs": [
    {
     "data": {
      "text/plain": [
       "0      1\n",
       "1      0\n",
       "2      1\n",
       "3      0\n",
       "4      0\n",
       "      ..\n",
       "265    0\n",
       "266    0\n",
       "267    0\n",
       "268    0\n",
       "269    1\n",
       "Name: Heart Disease, Length: 270, dtype: int64"
      ]
     },
     "execution_count": 7,
     "metadata": {},
     "output_type": "execute_result"
    }
   ],
   "source": [
    "# LabelEncoder is used to convert values into binary\n",
    "from sklearn.preprocessing import LabelEncoder  \n",
    "label_encoder= LabelEncoder()  \n",
    "# Heart Disease column has type object so it is converted to binary value using LabelEncoder  \n",
    "df['Heart Disease']= label_encoder.fit_transform(df['Heart Disease'])\n",
    "df['Heart Disease']"
   ]
  },
  {
   "cell_type": "code",
   "execution_count": 8,
   "id": "answering-electric",
   "metadata": {},
   "outputs": [
    {
     "data": {
      "text/plain": [
       "Age                        0\n",
       "Sex                        0\n",
       "Chest pain type            0\n",
       "BP                         0\n",
       "Cholesterol                0\n",
       "FBS over 120               0\n",
       "EKG results                0\n",
       "Max HR                     0\n",
       "Exercise angina            0\n",
       "ST depression              0\n",
       "Slope of ST                0\n",
       "Number of vessels fluro    0\n",
       "Thallium                   0\n",
       "Heart Disease              0\n",
       "dtype: int64"
      ]
     },
     "execution_count": 8,
     "metadata": {},
     "output_type": "execute_result"
    }
   ],
   "source": [
    "df.isna().sum() # isna().sum() checks sum of total null values"
   ]
  },
  {
   "cell_type": "code",
   "execution_count": 9,
   "id": "subjective-supplier",
   "metadata": {},
   "outputs": [
    {
     "data": {
      "text/plain": [
       "0"
      ]
     },
     "execution_count": 9,
     "metadata": {},
     "output_type": "execute_result"
    }
   ],
   "source": [
    "df.duplicated().sum() # check duplicate values"
   ]
  },
  {
   "cell_type": "markdown",
   "id": "collected-teacher",
   "metadata": {},
   "source": [
    "# Implementing KNN, SVM, Random Forest Algorithms"
   ]
  },
  {
   "cell_type": "code",
   "execution_count": 10,
   "id": "golden-politics",
   "metadata": {},
   "outputs": [
    {
     "data": {
      "text/plain": [
       "Index(['Age', 'Sex', 'Chest pain type', 'BP', 'Cholesterol', 'FBS over 120',\n",
       "       'EKG results', 'Max HR', 'Exercise angina', 'ST depression',\n",
       "       'Slope of ST', 'Number of vessels fluro', 'Thallium', 'Heart Disease'],\n",
       "      dtype='object')"
      ]
     },
     "execution_count": 10,
     "metadata": {},
     "output_type": "execute_result"
    }
   ],
   "source": [
    "df.columns"
   ]
  },
  {
   "cell_type": "code",
   "execution_count": 11,
   "id": "infectious-outdoors",
   "metadata": {},
   "outputs": [
    {
     "data": {
      "text/plain": [
       "((270, 13), (270,))"
      ]
     },
     "execution_count": 11,
     "metadata": {},
     "output_type": "execute_result"
    }
   ],
   "source": [
    "# defining features and predict variables from dataset\n",
    "feature = df[['Age', 'Sex', 'Chest pain type', 'BP', 'Cholesterol', 'FBS over 120',\n",
    "       'EKG results', 'Max HR', 'Exercise angina', 'ST depression',\n",
    "       'Slope of ST', 'Number of vessels fluro', 'Thallium']]\n",
    "\n",
    "predict = df['Heart Disease']\n",
    "\n",
    "feature.shape,predict.shape"
   ]
  },
  {
   "cell_type": "code",
   "execution_count": 12,
   "id": "stopped-inspection",
   "metadata": {},
   "outputs": [
    {
     "name": "stdout",
     "output_type": "stream",
     "text": [
      "[[ 1.71209356  0.6894997   0.87092765 ...  0.67641928  2.47268219\n",
      "  -0.87570581]\n",
      " [ 1.38213977 -1.45032695 -0.18355874 ...  0.67641928 -0.71153494\n",
      "   1.18927733]\n",
      " [ 0.2822938   0.6894997  -1.23804513 ... -0.95423434 -0.71153494\n",
      "   1.18927733]\n",
      " ...\n",
      " [ 0.1723092  -1.45032695 -1.23804513 ...  0.67641928 -0.71153494\n",
      "  -0.87570581]\n",
      " [ 0.2822938   0.6894997   0.87092765 ...  0.67641928 -0.71153494\n",
      "   0.67303154]\n",
      " [ 1.38213977  0.6894997   0.87092765 ...  0.67641928  2.47268219\n",
      "  -0.87570581]]\n"
     ]
    }
   ],
   "source": [
    "from sklearn.preprocessing import StandardScaler\n",
    "scaler = StandardScaler()\n",
    "# transform data\n",
    "scaled = scaler.fit_transform(feature)\n",
    "print(scaled)"
   ]
  },
  {
   "cell_type": "code",
   "execution_count": 13,
   "id": "entire-rough",
   "metadata": {},
   "outputs": [],
   "source": [
    "# splitting training and testing dataset\n",
    "from sklearn.model_selection import train_test_split\n",
    "x_train,x_test,y_train,y_test = train_test_split(scaled,predict,test_size=0.3,random_state=30)"
   ]
  },
  {
   "cell_type": "markdown",
   "id": "motivated-proportion",
   "metadata": {},
   "source": [
    "# KNN algorithm"
   ]
  },
  {
   "cell_type": "code",
   "execution_count": 14,
   "id": "innocent-setting",
   "metadata": {},
   "outputs": [],
   "source": [
    "from sklearn.neighbors import KNeighborsClassifier\n",
    "from sklearn.model_selection import GridSearchCV"
   ]
  },
  {
   "cell_type": "code",
   "execution_count": 15,
   "id": "suburban-average",
   "metadata": {},
   "outputs": [],
   "source": [
    "grid_params_knn = { 'n_neighbors' : list(range(1,100)),\n",
    "               'weights' : ['uniform','distance'],\n",
    "               'metric' : ['minkowski','euclidean','manhattan']}"
   ]
  },
  {
   "cell_type": "code",
   "execution_count": 16,
   "id": "studied-organ",
   "metadata": {},
   "outputs": [],
   "source": [
    "gs_knn = GridSearchCV(KNeighborsClassifier(), grid_params_knn, verbose = 1, cv=3, n_jobs = -1)\n"
   ]
  },
  {
   "cell_type": "code",
   "execution_count": 17,
   "id": "superb-brief",
   "metadata": {},
   "outputs": [
    {
     "name": "stdout",
     "output_type": "stream",
     "text": [
      "Fitting 3 folds for each of 594 candidates, totalling 1782 fits\n"
     ]
    }
   ],
   "source": [
    "# fit the model on our train set\n",
    "g_res_knn = gs_knn.fit(x_train, y_train)"
   ]
  },
  {
   "cell_type": "code",
   "execution_count": 18,
   "id": "focal-prescription",
   "metadata": {},
   "outputs": [
    {
     "data": {
      "text/plain": [
       "0.851851851851852"
      ]
     },
     "execution_count": 18,
     "metadata": {},
     "output_type": "execute_result"
    }
   ],
   "source": [
    "g_res_knn.best_score_"
   ]
  },
  {
   "cell_type": "code",
   "execution_count": 19,
   "id": "facial-tongue",
   "metadata": {},
   "outputs": [
    {
     "data": {
      "text/plain": [
       "{'metric': 'minkowski', 'n_neighbors': 11, 'weights': 'distance'}"
      ]
     },
     "execution_count": 19,
     "metadata": {},
     "output_type": "execute_result"
    }
   ],
   "source": [
    "g_res_knn.best_params_"
   ]
  },
  {
   "cell_type": "code",
   "execution_count": 20,
   "id": "satisfied-handbook",
   "metadata": {},
   "outputs": [
    {
     "data": {
      "text/plain": [
       "KNeighborsClassifier(n_neighbors=11, weights='distance')"
      ]
     },
     "execution_count": 20,
     "metadata": {},
     "output_type": "execute_result"
    }
   ],
   "source": [
    "#fitting KNN classifier in training dataset\n",
    "knn= KNeighborsClassifier(n_neighbors = 11, metric='minkowski',weights='distance')\n",
    "knn.fit(x_train, y_train) "
   ]
  },
  {
   "cell_type": "code",
   "execution_count": 21,
   "id": "straight-fortune",
   "metadata": {},
   "outputs": [],
   "source": [
    "# get a prediction\n",
    "y_pred = knn.predict(x_test)"
   ]
  },
  {
   "cell_type": "code",
   "execution_count": 22,
   "id": "catholic-ownership",
   "metadata": {},
   "outputs": [
    {
     "name": "stdout",
     "output_type": "stream",
     "text": [
      "               Classification report of KNN Algorithm \n",
      "               -------------------------------------- \n",
      "              precision    recall  f1-score   support\n",
      "\n",
      "           0       0.87      0.90      0.88        50\n",
      "           1       0.83      0.77      0.80        31\n",
      "\n",
      "    accuracy                           0.85        81\n",
      "   macro avg       0.85      0.84      0.84        81\n",
      "weighted avg       0.85      0.85      0.85        81\n",
      "\n"
     ]
    }
   ],
   "source": [
    "from sklearn.metrics import confusion_matrix , classification_report\n",
    "print ('               Classification report of KNN Algorithm ')\n",
    "print ('               -------------------------------------- ')\n",
    "print(classification_report(y_test, y_pred))"
   ]
  },
  {
   "cell_type": "code",
   "execution_count": 23,
   "id": "geographic-penetration",
   "metadata": {},
   "outputs": [
    {
     "data": {
      "text/plain": [
       "Text(0.5, 1.0, 'Confusion matrix for KNN Algorithm')"
      ]
     },
     "execution_count": 23,
     "metadata": {},
     "output_type": "execute_result"
    },
    {
     "data": {
      "image/png": "[encoded data removed]",
      "text/plain": [
       "<Figure size 504x360 with 2 Axes>"
      ]
     },
     "metadata": {
      "needs_background": "light"
     },
     "output_type": "display_data"
    }
   ],
   "source": [
    "#Creating the Confusion matrix  \n",
    "from sklearn.metrics import confusion_matrix  \n",
    "cm= confusion_matrix(y_test, y_pred)  \n",
    "\n",
    "# heatmap of confusion matrix\n",
    "plt.figure(figsize=(7,5))\n",
    "sns.heatmap(cm, annot=True)\n",
    "plt.xlabel('Predicted')\n",
    "plt.ylabel('Truth')\n",
    "plt.title(\"Confusion matrix for KNN Algorithm\")"
   ]
  },
  {
   "cell_type": "markdown",
   "id": "structural-nickname",
   "metadata": {},
   "source": [
    "# SVM (Support Vector Machines) Algorithm"
   ]
  },
  {
   "cell_type": "code",
   "execution_count": 24,
   "id": "contemporary-algorithm",
   "metadata": {},
   "outputs": [],
   "source": [
    "from sklearn.svm import SVC  "
   ]
  },
  {
   "cell_type": "code",
   "execution_count": 25,
   "id": "hourly-tuition",
   "metadata": {},
   "outputs": [
    {
     "data": {
      "text/plain": [
       "SVC(C=1, kernel='linear')"
      ]
     },
     "execution_count": 25,
     "metadata": {},
     "output_type": "execute_result"
    }
   ],
   "source": [
    "mdl = SVC(kernel='linear',C=1) # Linear Kernel other parameters are by default C − float, optional, default = 1.0, gamma − {‘scale’, ‘auto’} or float  \n",
    "mdl.fit(x_train, y_train)"
   ]
  },
  {
   "cell_type": "code",
   "execution_count": 26,
   "id": "pleased-jacob",
   "metadata": {},
   "outputs": [],
   "source": [
    "y_pred_svm = mdl.predict(x_test)  "
   ]
  },
  {
   "cell_type": "code",
   "execution_count": 27,
   "id": "impressed-means",
   "metadata": {},
   "outputs": [
    {
     "name": "stdout",
     "output_type": "stream",
     "text": [
      "               Classification report of SVM Algorithm \n",
      "               -------------------------------------- \n",
      "              precision    recall  f1-score   support\n",
      "\n",
      "           0       0.92      0.90      0.91        50\n",
      "           1       0.84      0.87      0.86        31\n",
      "\n",
      "    accuracy                           0.89        81\n",
      "   macro avg       0.88      0.89      0.88        81\n",
      "weighted avg       0.89      0.89      0.89        81\n",
      "\n"
     ]
    }
   ],
   "source": [
    "print ('               Classification report of SVM Algorithm ')\n",
    "print ('               -------------------------------------- ')\n",
    "print(classification_report(y_test, y_pred_svm))"
   ]
  },
  {
   "cell_type": "code",
   "execution_count": 28,
   "id": "difficult-mixer",
   "metadata": {},
   "outputs": [
    {
     "data": {
      "text/plain": [
       "Text(0.5, 1.0, 'Confusion matrix for SVM Algorithm')"
      ]
     },
     "execution_count": 28,
     "metadata": {},
     "output_type": "execute_result"
    },
    {
     "data": {
      "image/png": "[encoded data removed]",
      "text/plain": [
       "<Figure size 504x360 with 2 Axes>"
      ]
     },
     "metadata": {
      "needs_background": "light"
     },
     "output_type": "display_data"
    }
   ],
   "source": [
    "#Creating the Confusion matrix  \n",
    "from sklearn.metrics import confusion_matrix  \n",
    "cm_svm= confusion_matrix(y_test, y_pred_svm) \n",
    "\n",
    "# heatmap of confusion matrix\n",
    "plt.figure(figsize=(7,5))\n",
    "sns.heatmap(cm_svm, annot=True)\n",
    "plt.xlabel('Predicted')\n",
    "plt.ylabel('Truth')\n",
    "plt.title(\"Confusion matrix for SVM Algorithm\")"
   ]
  },
  {
   "cell_type": "markdown",
   "id": "complicated-collectible",
   "metadata": {},
   "source": [
    "# Random Forest Algorithm"
   ]
  },
  {
   "cell_type": "code",
   "execution_count": 29,
   "id": "earned-poverty",
   "metadata": {},
   "outputs": [],
   "source": [
    "from sklearn.model_selection import GridSearchCV"
   ]
  },
  {
   "cell_type": "code",
   "execution_count": 30,
   "id": "promising-policy",
   "metadata": {},
   "outputs": [],
   "source": [
    " from sklearn.ensemble import RandomForestClassifier\n"
   ]
  },
  {
   "cell_type": "code",
   "execution_count": 31,
   "id": "convinced-raise",
   "metadata": {},
   "outputs": [
    {
     "data": {
      "text/plain": [
       "RandomForestClassifier()"
      ]
     },
     "execution_count": 31,
     "metadata": {},
     "output_type": "execute_result"
    }
   ],
   "source": [
    "clfrf= RandomForestClassifier()#n_estimators= 100,criterion='entropy' a=84\n",
    "clfrf.fit(x_train, y_train) "
   ]
  },
  {
   "cell_type": "code",
   "execution_count": 32,
   "id": "thermal-finance",
   "metadata": {},
   "outputs": [],
   "source": [
    "ypred_rf= clfrf.predict(x_test)"
   ]
  },
  {
   "cell_type": "code",
   "execution_count": 33,
   "id": "hispanic-payment",
   "metadata": {},
   "outputs": [
    {
     "name": "stdout",
     "output_type": "stream",
     "text": [
      "Classification report of Random forest without Grid Search \n",
      "----------------------------------------------------------- \n",
      "              precision    recall  f1-score   support\n",
      "\n",
      "           0       0.88      0.84      0.86        50\n",
      "           1       0.76      0.81      0.78        31\n",
      "\n",
      "    accuracy                           0.83        81\n",
      "   macro avg       0.82      0.82      0.82        81\n",
      "weighted avg       0.83      0.83      0.83        81\n",
      "\n"
     ]
    }
   ],
   "source": [
    "print ('Classification report of Random forest without Grid Search ')\n",
    "print ('----------------------------------------------------------- ')\n",
    "print(classification_report(y_test, ypred_rf))"
   ]
  },
  {
   "cell_type": "code",
   "execution_count": 34,
   "id": "knowing-devil",
   "metadata": {},
   "outputs": [
    {
     "data": {
      "text/plain": [
       "Text(0.5, 1.0, 'Confusion matrix for Random Forest Algorithm')"
      ]
     },
     "execution_count": 34,
     "metadata": {},
     "output_type": "execute_result"
    },
    {
     "data": {
      "image/png": "[encoded data removed]",
      "text/plain": [
       "<Figure size 504x360 with 2 Axes>"
      ]
     },
     "metadata": {
      "needs_background": "light"
     },
     "output_type": "display_data"
    }
   ],
   "source": [
    "# #Creating the Confusion matrix  \n",
    "cm_rf= confusion_matrix(y_test, ypred_rf) \n",
    "\n",
    "# # heatmap of confusion matrix\n",
    "plt.figure(figsize=(7,5))\n",
    "sns.heatmap(cm_rf, annot=True)\n",
    "plt.xlabel('Predicted')\n",
    "plt.ylabel('Truth')\n",
    "plt.title(\"Confusion matrix for Random Forest Algorithm\")"
   ]
  },
  {
   "cell_type": "markdown",
   "id": "ongoing-potato",
   "metadata": {},
   "source": [
    "# Random Forest using GridSearch CV"
   ]
  },
  {
   "cell_type": "code",
   "execution_count": 35,
   "id": "united-formation",
   "metadata": {},
   "outputs": [],
   "source": [
    "rfc=RandomForestClassifier(random_state=42)"
   ]
  },
  {
   "cell_type": "code",
   "execution_count": 36,
   "id": "advisory-birmingham",
   "metadata": {},
   "outputs": [
    {
     "name": "stdout",
     "output_type": "stream",
     "text": [
      "Fitting 5 folds for each of 24 candidates, totalling 120 fits\n"
     ]
    },
    {
     "data": {
      "text/plain": [
       "GridSearchCV(cv=5, estimator=RandomForestClassifier(random_state=42),\n",
       "             param_grid={'criterion': ['gini', 'entropy'],\n",
       "                         'max_depth': [3, 6, 8],\n",
       "                         'n_estimators': [100, 200, 500, 700]},\n",
       "             verbose=1)"
      ]
     },
     "execution_count": 36,
     "metadata": {},
     "output_type": "execute_result"
    }
   ],
   "source": [
    "param_grid = { \n",
    "    'n_estimators': [100,200,500,700],\n",
    "#    'max_features': ['auto', 'sqrt', 'log2'],\n",
    "     'max_depth' : [3,6,8],\n",
    "   'criterion' :['gini', 'entropy']\n",
    "}\n",
    "CV_rfc = GridSearchCV(estimator=rfc, param_grid=param_grid, cv= 5,verbose=1)\n",
    "CV_rfc.fit(x_train, y_train)"
   ]
  },
  {
   "cell_type": "code",
   "execution_count": 37,
   "id": "variable-hepatitis",
   "metadata": {},
   "outputs": [
    {
     "data": {
      "text/plain": [
       "{'criterion': 'gini', 'max_depth': 3, 'n_estimators': 200}"
      ]
     },
     "execution_count": 37,
     "metadata": {},
     "output_type": "execute_result"
    }
   ],
   "source": [
    "CV_rfc.best_params_"
   ]
  },
  {
   "cell_type": "code",
   "execution_count": 38,
   "id": "needed-california",
   "metadata": {},
   "outputs": [],
   "source": [
    "rfc1=RandomForestClassifier(criterion = 'gini',n_estimators =300, max_depth = 4,min_samples_split = 12,min_samples_leaf = 3, max_features='auto')\n"
   ]
  },
  {
   "cell_type": "code",
   "execution_count": 39,
   "id": "commercial-configuration",
   "metadata": {},
   "outputs": [
    {
     "data": {
      "text/plain": [
       "RandomForestClassifier(max_depth=4, min_samples_leaf=3, min_samples_split=12,\n",
       "                       n_estimators=300)"
      ]
     },
     "execution_count": 39,
     "metadata": {},
     "output_type": "execute_result"
    }
   ],
   "source": [
    "rfc1.fit(x_train, y_train)"
   ]
  },
  {
   "cell_type": "code",
   "execution_count": 40,
   "id": "rising-enforcement",
   "metadata": {},
   "outputs": [],
   "source": [
    "pred=rfc1.predict(x_test)"
   ]
  },
  {
   "cell_type": "code",
   "execution_count": 41,
   "id": "sound-cancellation",
   "metadata": {},
   "outputs": [
    {
     "name": "stdout",
     "output_type": "stream",
     "text": [
      "Classification report of Random forest with Grid Search \n",
      "------------------------------------------------------- \n",
      "              precision    recall  f1-score   support\n",
      "\n",
      "           0       0.88      0.88      0.88        50\n",
      "           1       0.81      0.81      0.81        31\n",
      "\n",
      "    accuracy                           0.85        81\n",
      "   macro avg       0.84      0.84      0.84        81\n",
      "weighted avg       0.85      0.85      0.85        81\n",
      "\n"
     ]
    }
   ],
   "source": [
    "print ('Classification report of Random forest with Grid Search ')\n",
    "print ('------------------------------------------------------- ')\n",
    "print(classification_report(y_test,pred))"
   ]
  },
  {
   "cell_type": "code",
   "execution_count": 42,
   "id": "alert-desert",
   "metadata": {},
   "outputs": [
    {
     "data": {
      "text/plain": [
       "Text(0.5, 1.0, 'Confusion matrix for Random Forest Algorithm with GridSearch')"
      ]
     },
     "execution_count": 42,
     "metadata": {},
     "output_type": "execute_result"
    },
    {
     "data": {
      "image/png": "[encoded data removed]",
      "text/plain": [
       "<Figure size 504x360 with 2 Axes>"
      ]
     },
     "metadata": {
      "needs_background": "light"
     },
     "output_type": "display_data"
    }
   ],
   "source": [
    "# #Creating the Confusion matrix  \n",
    "cm_rf2= confusion_matrix(y_test, pred) \n",
    "\n",
    "# # heatmap of confusion matrix\n",
    "plt.figure(figsize=(7,5))\n",
    "sns.heatmap(cm_rf2, annot=True)\n",
    "plt.xlabel('Predicted')\n",
    "plt.ylabel('Truth')\n",
    "plt.title(\"Confusion matrix for Random Forest Algorithm with GridSearch\")"
   ]
  },
  {
   "cell_type": "markdown",
   "id": "technical-specific",
   "metadata": {},
   "source": [
    "# ANN"
   ]
  },
  {
   "cell_type": "code",
   "execution_count": 43,
   "id": "cubic-stick",
   "metadata": {},
   "outputs": [],
   "source": [
    "ft = np.array(scaled) \n",
    "pt = np.array(predict)"
   ]
  },
  {
   "cell_type": "code",
   "execution_count": 44,
   "id": "bibliographic-ticket",
   "metadata": {},
   "outputs": [],
   "source": [
    "# splitting training and testing dataset\n",
    "from sklearn.model_selection import train_test_split\n",
    "x_train_mlp,x_test_mlp,y_train_mlp,y_test_mlp = train_test_split(ft,pt,test_size=0.3,random_state=42)"
   ]
  },
  {
   "cell_type": "code",
   "execution_count": 45,
   "id": "engaging-consolidation",
   "metadata": {},
   "outputs": [
    {
     "name": "stderr",
     "output_type": "stream",
     "text": [
      "2022-05-13 13:06:08.009297: W tensorflow/stream_executor/platform/default/dso_loader.cc:64] Could not load dynamic library 'libcudart.so.11.0'; dlerror: libcudart.so.11.0: cannot open shared object file: No such file or directory\n",
      "2022-05-13 13:06:08.009353: I tensorflow/stream_executor/cuda/cudart_stub.cc:29] Ignore above cudart dlerror if you do not have a GPU set up on your machine.\n"
     ]
    }
   ],
   "source": [
    "import tensorflow as tf\n",
    "from tensorflow.keras.models import Sequential\n",
    "from tensorflow.keras.layers import Dense, Dropout,Flatten\n",
    "from tensorflow.keras.layers import Activation\n",
    "from tensorflow.keras.utils import plot_model\n",
    "from keras import regularizers\n",
    "from numpy import loadtxt"
   ]
  },
  {
   "cell_type": "code",
   "execution_count": 46,
   "id": "useful-kennedy",
   "metadata": {},
   "outputs": [
    {
     "name": "stderr",
     "output_type": "stream",
     "text": [
      "2022-05-13 13:06:31.751506: W tensorflow/stream_executor/platform/default/dso_loader.cc:64] Could not load dynamic library 'libcuda.so.1'; dlerror: libcuda.so.1: cannot open shared object file: No such file or directory\n",
      "2022-05-13 13:06:31.751639: W tensorflow/stream_executor/cuda/cuda_driver.cc:269] failed call to cuInit: UNKNOWN ERROR (303)\n",
      "2022-05-13 13:06:31.751711: I tensorflow/stream_executor/cuda/cuda_diagnostics.cc:156] kernel driver does not appear to be running on this host (dp-Vostro-3580): /proc/driver/nvidia/version does not exist\n",
      "2022-05-13 13:06:31.783939: I tensorflow/core/platform/cpu_feature_guard.cc:151] This TensorFlow binary is optimized with oneAPI Deep Neural Network Library (oneDNN) to use the following CPU instructions in performance-critical operations:  AVX2 FMA\n",
      "To enable them in other operations, rebuild TensorFlow with the appropriate compiler flags.\n"
     ]
    }
   ],
   "source": [
    "Dense_model = Sequential()\n",
    "Dense_model.add(Flatten())\n",
    "Dense_model.add(Dense(16,input_dim=(x_train_mlp.shape[1],1)))\n",
    "Dense_model.add(Dense(8))\n",
    "Dense_model.add(Dense(6))\n",
    "Dense_model.add(Dense(2, activation='softmax'))\n",
    "\n",
    "Dense_model.compile(loss='sparse_categorical_crossentropy', \n",
    "                    optimizer='adam', metrics=['accuracy'])\n"
   ]
  },
  {
   "cell_type": "code",
   "execution_count": 47,
   "id": "alone-albuquerque",
   "metadata": {
    "scrolled": true
   },
   "outputs": [
    {
     "name": "stdout",
     "output_type": "stream",
     "text": [
      "Epoch 1/120\n",
      "38/38 [==============================] - 3s 7ms/step - loss: 0.8031 - accuracy: 0.5767 - val_loss: 0.5709 - val_accuracy: 0.7160\n",
      "Epoch 2/120\n",
      "38/38 [==============================] - 0s 2ms/step - loss: 0.5948 - accuracy: 0.7037 - val_loss: 0.4899 - val_accuracy: 0.8025\n",
      "Epoch 3/120\n",
      "38/38 [==============================] - 0s 2ms/step - loss: 0.5090 - accuracy: 0.7460 - val_loss: 0.4387 - val_accuracy: 0.7901\n",
      "Epoch 4/120\n",
      "38/38 [==============================] - 0s 2ms/step - loss: 0.4530 - accuracy: 0.7725 - val_loss: 0.4051 - val_accuracy: 0.8025\n",
      "Epoch 5/120\n",
      "38/38 [==============================] - 0s 2ms/step - loss: 0.4141 - accuracy: 0.8042 - val_loss: 0.3787 - val_accuracy: 0.8395\n",
      "Epoch 6/120\n",
      "38/38 [==============================] - 0s 2ms/step - loss: 0.3910 - accuracy: 0.7989 - val_loss: 0.3686 - val_accuracy: 0.8395\n",
      "Epoch 7/120\n",
      "38/38 [==============================] - 0s 4ms/step - loss: 0.3702 - accuracy: 0.8360 - val_loss: 0.3634 - val_accuracy: 0.8395\n",
      "Epoch 8/120\n",
      "38/38 [==============================] - 0s 3ms/step - loss: 0.3622 - accuracy: 0.8519 - val_loss: 0.3838 - val_accuracy: 0.8148\n",
      "Epoch 9/120\n",
      "38/38 [==============================] - 0s 2ms/step - loss: 0.3553 - accuracy: 0.8466 - val_loss: 0.3705 - val_accuracy: 0.8395\n",
      "Epoch 10/120\n",
      "38/38 [==============================] - 0s 2ms/step - loss: 0.3508 - accuracy: 0.8466 - val_loss: 0.3697 - val_accuracy: 0.8395\n",
      "Epoch 11/120\n",
      "38/38 [==============================] - 0s 2ms/step - loss: 0.3486 - accuracy: 0.8571 - val_loss: 0.3929 - val_accuracy: 0.8395\n",
      "Epoch 12/120\n",
      "38/38 [==============================] - 0s 2ms/step - loss: 0.3473 - accuracy: 0.8466 - val_loss: 0.3904 - val_accuracy: 0.8395\n",
      "Epoch 13/120\n",
      "38/38 [==============================] - 0s 2ms/step - loss: 0.3431 - accuracy: 0.8413 - val_loss: 0.3925 - val_accuracy: 0.8272\n",
      "Epoch 14/120\n",
      "38/38 [==============================] - 0s 2ms/step - loss: 0.3473 - accuracy: 0.8466 - val_loss: 0.4003 - val_accuracy: 0.8272\n",
      "Epoch 15/120\n",
      "38/38 [==============================] - 0s 2ms/step - loss: 0.3403 - accuracy: 0.8466 - val_loss: 0.4071 - val_accuracy: 0.8395\n",
      "Epoch 16/120\n",
      "38/38 [==============================] - 0s 2ms/step - loss: 0.3414 - accuracy: 0.8519 - val_loss: 0.4015 - val_accuracy: 0.8519\n",
      "Epoch 17/120\n",
      "38/38 [==============================] - 0s 2ms/step - loss: 0.3421 - accuracy: 0.8571 - val_loss: 0.4085 - val_accuracy: 0.8272\n",
      "Epoch 18/120\n",
      "38/38 [==============================] - 0s 2ms/step - loss: 0.3395 - accuracy: 0.8519 - val_loss: 0.4064 - val_accuracy: 0.8272\n",
      "Epoch 19/120\n",
      "38/38 [==============================] - 0s 2ms/step - loss: 0.3395 - accuracy: 0.8571 - val_loss: 0.4001 - val_accuracy: 0.8272\n",
      "Epoch 20/120\n",
      "38/38 [==============================] - 0s 2ms/step - loss: 0.3420 - accuracy: 0.8519 - val_loss: 0.4010 - val_accuracy: 0.8148\n",
      "Epoch 21/120\n",
      "38/38 [==============================] - 0s 2ms/step - loss: 0.3382 - accuracy: 0.8466 - val_loss: 0.4182 - val_accuracy: 0.8148\n",
      "Epoch 22/120\n",
      "38/38 [==============================] - 0s 2ms/step - loss: 0.3379 - accuracy: 0.8571 - val_loss: 0.4063 - val_accuracy: 0.8395\n",
      "Epoch 23/120\n",
      "38/38 [==============================] - 0s 2ms/step - loss: 0.3387 - accuracy: 0.8519 - val_loss: 0.4183 - val_accuracy: 0.8272\n",
      "Epoch 24/120\n",
      "38/38 [==============================] - 0s 2ms/step - loss: 0.3408 - accuracy: 0.8519 - val_loss: 0.4191 - val_accuracy: 0.8148\n",
      "Epoch 25/120\n",
      "38/38 [==============================] - 0s 3ms/step - loss: 0.3391 - accuracy: 0.8571 - val_loss: 0.4194 - val_accuracy: 0.8148\n",
      "Epoch 26/120\n",
      "38/38 [==============================] - 0s 2ms/step - loss: 0.3376 - accuracy: 0.8519 - val_loss: 0.4212 - val_accuracy: 0.8395\n",
      "Epoch 27/120\n",
      "38/38 [==============================] - 0s 2ms/step - loss: 0.3391 - accuracy: 0.8571 - val_loss: 0.4179 - val_accuracy: 0.8148\n",
      "Epoch 28/120\n",
      "38/38 [==============================] - 0s 2ms/step - loss: 0.3389 - accuracy: 0.8571 - val_loss: 0.4209 - val_accuracy: 0.8148\n",
      "Epoch 29/120\n",
      "38/38 [==============================] - 0s 1ms/step - loss: 0.3394 - accuracy: 0.8519 - val_loss: 0.4132 - val_accuracy: 0.8272\n",
      "Epoch 30/120\n",
      "38/38 [==============================] - 0s 2ms/step - loss: 0.3404 - accuracy: 0.8466 - val_loss: 0.4174 - val_accuracy: 0.8148\n",
      "Epoch 31/120\n",
      "38/38 [==============================] - 0s 2ms/step - loss: 0.3416 - accuracy: 0.8571 - val_loss: 0.4142 - val_accuracy: 0.8272\n",
      "Epoch 32/120\n",
      "38/38 [==============================] - 0s 3ms/step - loss: 0.3420 - accuracy: 0.8519 - val_loss: 0.4141 - val_accuracy: 0.8272\n",
      "Epoch 33/120\n",
      "38/38 [==============================] - 0s 2ms/step - loss: 0.3396 - accuracy: 0.8571 - val_loss: 0.4194 - val_accuracy: 0.8272\n",
      "Epoch 34/120\n",
      "38/38 [==============================] - 0s 2ms/step - loss: 0.3399 - accuracy: 0.8571 - val_loss: 0.4171 - val_accuracy: 0.8272\n",
      "Epoch 35/120\n",
      "38/38 [==============================] - 0s 2ms/step - loss: 0.3379 - accuracy: 0.8519 - val_loss: 0.4101 - val_accuracy: 0.8272\n",
      "Epoch 36/120\n",
      "38/38 [==============================] - 0s 2ms/step - loss: 0.3396 - accuracy: 0.8466 - val_loss: 0.4238 - val_accuracy: 0.8025\n",
      "Epoch 37/120\n",
      "38/38 [==============================] - 0s 2ms/step - loss: 0.3405 - accuracy: 0.8624 - val_loss: 0.4116 - val_accuracy: 0.8272\n",
      "Epoch 38/120\n",
      "38/38 [==============================] - 0s 3ms/step - loss: 0.3377 - accuracy: 0.8571 - val_loss: 0.4222 - val_accuracy: 0.8272\n",
      "Epoch 39/120\n",
      "38/38 [==============================] - 0s 2ms/step - loss: 0.3376 - accuracy: 0.8519 - val_loss: 0.4244 - val_accuracy: 0.8148\n",
      "Epoch 40/120\n",
      "38/38 [==============================] - 0s 2ms/step - loss: 0.3373 - accuracy: 0.8571 - val_loss: 0.4197 - val_accuracy: 0.8395\n",
      "Epoch 41/120\n",
      "38/38 [==============================] - 0s 2ms/step - loss: 0.3372 - accuracy: 0.8519 - val_loss: 0.4359 - val_accuracy: 0.8025\n",
      "Epoch 42/120\n",
      "38/38 [==============================] - 0s 2ms/step - loss: 0.3377 - accuracy: 0.8571 - val_loss: 0.4162 - val_accuracy: 0.8395\n",
      "Epoch 43/120\n",
      "38/38 [==============================] - 0s 2ms/step - loss: 0.3409 - accuracy: 0.8571 - val_loss: 0.4251 - val_accuracy: 0.8272\n",
      "Epoch 44/120\n",
      "38/38 [==============================] - 0s 2ms/step - loss: 0.3423 - accuracy: 0.8413 - val_loss: 0.4172 - val_accuracy: 0.8025\n",
      "Epoch 45/120\n",
      "38/38 [==============================] - 0s 2ms/step - loss: 0.3377 - accuracy: 0.8519 - val_loss: 0.4074 - val_accuracy: 0.8272\n",
      "Epoch 46/120\n",
      "38/38 [==============================] - 0s 2ms/step - loss: 0.3380 - accuracy: 0.8571 - val_loss: 0.4188 - val_accuracy: 0.8272\n",
      "Epoch 47/120\n",
      "38/38 [==============================] - 0s 2ms/step - loss: 0.3379 - accuracy: 0.8519 - val_loss: 0.4283 - val_accuracy: 0.8148\n",
      "Epoch 48/120\n",
      "38/38 [==============================] - 0s 2ms/step - loss: 0.3405 - accuracy: 0.8466 - val_loss: 0.4192 - val_accuracy: 0.8148\n",
      "Epoch 49/120\n",
      "38/38 [==============================] - 0s 2ms/step - loss: 0.3369 - accuracy: 0.8519 - val_loss: 0.4248 - val_accuracy: 0.8148\n",
      "Epoch 50/120\n",
      "38/38 [==============================] - 0s 2ms/step - loss: 0.3384 - accuracy: 0.8571 - val_loss: 0.4121 - val_accuracy: 0.8148\n",
      "Epoch 51/120\n",
      "38/38 [==============================] - 0s 2ms/step - loss: 0.3383 - accuracy: 0.8466 - val_loss: 0.4146 - val_accuracy: 0.8395\n",
      "Epoch 52/120\n",
      "38/38 [==============================] - 0s 3ms/step - loss: 0.3367 - accuracy: 0.8571 - val_loss: 0.4109 - val_accuracy: 0.8395\n",
      "Epoch 53/120\n",
      "38/38 [==============================] - 0s 2ms/step - loss: 0.3393 - accuracy: 0.8413 - val_loss: 0.4238 - val_accuracy: 0.8025\n",
      "Epoch 54/120\n",
      "38/38 [==============================] - 0s 2ms/step - loss: 0.3407 - accuracy: 0.8519 - val_loss: 0.4219 - val_accuracy: 0.8272\n",
      "Epoch 55/120\n",
      "38/38 [==============================] - 0s 2ms/step - loss: 0.3382 - accuracy: 0.8466 - val_loss: 0.4189 - val_accuracy: 0.8272\n",
      "Epoch 56/120\n",
      "38/38 [==============================] - 0s 2ms/step - loss: 0.3387 - accuracy: 0.8624 - val_loss: 0.4128 - val_accuracy: 0.8148\n",
      "Epoch 57/120\n",
      "38/38 [==============================] - 0s 2ms/step - loss: 0.3395 - accuracy: 0.8624 - val_loss: 0.4299 - val_accuracy: 0.8272\n",
      "Epoch 58/120\n",
      "38/38 [==============================] - 0s 2ms/step - loss: 0.3380 - accuracy: 0.8519 - val_loss: 0.4107 - val_accuracy: 0.8148\n",
      "Epoch 59/120\n",
      "38/38 [==============================] - 0s 3ms/step - loss: 0.3380 - accuracy: 0.8571 - val_loss: 0.4132 - val_accuracy: 0.8272\n",
      "Epoch 60/120\n",
      "38/38 [==============================] - 0s 2ms/step - loss: 0.3400 - accuracy: 0.8571 - val_loss: 0.4187 - val_accuracy: 0.8148\n",
      "Epoch 61/120\n",
      "38/38 [==============================] - 0s 2ms/step - loss: 0.3384 - accuracy: 0.8571 - val_loss: 0.4047 - val_accuracy: 0.8272\n",
      "Epoch 62/120\n",
      "38/38 [==============================] - 0s 2ms/step - loss: 0.3355 - accuracy: 0.8519 - val_loss: 0.4344 - val_accuracy: 0.8148\n",
      "Epoch 63/120\n",
      "38/38 [==============================] - 0s 2ms/step - loss: 0.3404 - accuracy: 0.8571 - val_loss: 0.4249 - val_accuracy: 0.8272\n",
      "Epoch 64/120\n",
      "38/38 [==============================] - 0s 2ms/step - loss: 0.3392 - accuracy: 0.8519 - val_loss: 0.4112 - val_accuracy: 0.8148\n",
      "Epoch 65/120\n",
      "38/38 [==============================] - 0s 2ms/step - loss: 0.3389 - accuracy: 0.8571 - val_loss: 0.4170 - val_accuracy: 0.8395\n",
      "Epoch 66/120\n",
      "38/38 [==============================] - 0s 3ms/step - loss: 0.3397 - accuracy: 0.8571 - val_loss: 0.4237 - val_accuracy: 0.8272\n",
      "Epoch 67/120\n",
      "38/38 [==============================] - 0s 2ms/step - loss: 0.3417 - accuracy: 0.8466 - val_loss: 0.4254 - val_accuracy: 0.8148\n",
      "Epoch 68/120\n",
      "38/38 [==============================] - 0s 2ms/step - loss: 0.3371 - accuracy: 0.8571 - val_loss: 0.4188 - val_accuracy: 0.8395\n",
      "Epoch 69/120\n",
      "38/38 [==============================] - 0s 2ms/step - loss: 0.3379 - accuracy: 0.8519 - val_loss: 0.4264 - val_accuracy: 0.8025\n",
      "Epoch 70/120\n",
      "38/38 [==============================] - 0s 2ms/step - loss: 0.3396 - accuracy: 0.8571 - val_loss: 0.4148 - val_accuracy: 0.8272\n",
      "Epoch 71/120\n",
      "38/38 [==============================] - 0s 2ms/step - loss: 0.3412 - accuracy: 0.8571 - val_loss: 0.4291 - val_accuracy: 0.8148\n",
      "Epoch 72/120\n",
      "38/38 [==============================] - 0s 2ms/step - loss: 0.3378 - accuracy: 0.8571 - val_loss: 0.4120 - val_accuracy: 0.8148\n",
      "Epoch 73/120\n",
      "38/38 [==============================] - 0s 2ms/step - loss: 0.3400 - accuracy: 0.8519 - val_loss: 0.4211 - val_accuracy: 0.8395\n",
      "Epoch 74/120\n",
      "38/38 [==============================] - 0s 2ms/step - loss: 0.3373 - accuracy: 0.8571 - val_loss: 0.4189 - val_accuracy: 0.8272\n",
      "Epoch 75/120\n",
      "38/38 [==============================] - 0s 2ms/step - loss: 0.3444 - accuracy: 0.8466 - val_loss: 0.4132 - val_accuracy: 0.8395\n",
      "Epoch 76/120\n",
      "38/38 [==============================] - 0s 2ms/step - loss: 0.3399 - accuracy: 0.8571 - val_loss: 0.4133 - val_accuracy: 0.8148\n",
      "Epoch 77/120\n",
      "38/38 [==============================] - 0s 2ms/step - loss: 0.3401 - accuracy: 0.8519 - val_loss: 0.4174 - val_accuracy: 0.8148\n",
      "Epoch 78/120\n",
      "38/38 [==============================] - 0s 2ms/step - loss: 0.3370 - accuracy: 0.8571 - val_loss: 0.4236 - val_accuracy: 0.8148\n",
      "Epoch 79/120\n",
      "38/38 [==============================] - 0s 2ms/step - loss: 0.3404 - accuracy: 0.8519 - val_loss: 0.4152 - val_accuracy: 0.8395\n",
      "Epoch 80/120\n",
      "38/38 [==============================] - 0s 3ms/step - loss: 0.3390 - accuracy: 0.8466 - val_loss: 0.4285 - val_accuracy: 0.8272\n",
      "Epoch 81/120\n",
      "38/38 [==============================] - 0s 2ms/step - loss: 0.3388 - accuracy: 0.8571 - val_loss: 0.4217 - val_accuracy: 0.8148\n",
      "Epoch 82/120\n",
      "38/38 [==============================] - 0s 2ms/step - loss: 0.3374 - accuracy: 0.8519 - val_loss: 0.4277 - val_accuracy: 0.8272\n",
      "Epoch 83/120\n",
      "38/38 [==============================] - 0s 2ms/step - loss: 0.3380 - accuracy: 0.8571 - val_loss: 0.4132 - val_accuracy: 0.8272\n",
      "Epoch 84/120\n",
      "38/38 [==============================] - 0s 2ms/step - loss: 0.3390 - accuracy: 0.8519 - val_loss: 0.4200 - val_accuracy: 0.8148\n",
      "Epoch 85/120\n",
      "38/38 [==============================] - 0s 2ms/step - loss: 0.3378 - accuracy: 0.8571 - val_loss: 0.4236 - val_accuracy: 0.8272\n",
      "Epoch 86/120\n",
      "38/38 [==============================] - 0s 2ms/step - loss: 0.3409 - accuracy: 0.8571 - val_loss: 0.4172 - val_accuracy: 0.8272\n",
      "Epoch 87/120\n",
      "38/38 [==============================] - 0s 3ms/step - loss: 0.3361 - accuracy: 0.8466 - val_loss: 0.4233 - val_accuracy: 0.8272\n",
      "Epoch 88/120\n",
      "38/38 [==============================] - 0s 2ms/step - loss: 0.3382 - accuracy: 0.8571 - val_loss: 0.4182 - val_accuracy: 0.8272\n",
      "Epoch 89/120\n",
      "38/38 [==============================] - 0s 2ms/step - loss: 0.3380 - accuracy: 0.8571 - val_loss: 0.4229 - val_accuracy: 0.8272\n",
      "Epoch 90/120\n",
      "38/38 [==============================] - 0s 2ms/step - loss: 0.3402 - accuracy: 0.8571 - val_loss: 0.4279 - val_accuracy: 0.8025\n",
      "Epoch 91/120\n",
      "38/38 [==============================] - 0s 2ms/step - loss: 0.3386 - accuracy: 0.8571 - val_loss: 0.4182 - val_accuracy: 0.8272\n",
      "Epoch 92/120\n",
      "38/38 [==============================] - 0s 2ms/step - loss: 0.3379 - accuracy: 0.8519 - val_loss: 0.4279 - val_accuracy: 0.8272\n",
      "Epoch 93/120\n",
      "38/38 [==============================] - 0s 2ms/step - loss: 0.3356 - accuracy: 0.8466 - val_loss: 0.4244 - val_accuracy: 0.8272\n",
      "Epoch 94/120\n",
      "38/38 [==============================] - 0s 2ms/step - loss: 0.3383 - accuracy: 0.8571 - val_loss: 0.4132 - val_accuracy: 0.8272\n",
      "Epoch 95/120\n",
      "38/38 [==============================] - 0s 2ms/step - loss: 0.3384 - accuracy: 0.8571 - val_loss: 0.4229 - val_accuracy: 0.8148\n",
      "Epoch 96/120\n",
      "38/38 [==============================] - 0s 2ms/step - loss: 0.3383 - accuracy: 0.8519 - val_loss: 0.4227 - val_accuracy: 0.8148\n",
      "Epoch 97/120\n",
      "38/38 [==============================] - 0s 2ms/step - loss: 0.3379 - accuracy: 0.8413 - val_loss: 0.4274 - val_accuracy: 0.8025\n",
      "Epoch 98/120\n",
      "38/38 [==============================] - 0s 2ms/step - loss: 0.3411 - accuracy: 0.8519 - val_loss: 0.4213 - val_accuracy: 0.8272\n",
      "Epoch 99/120\n",
      "38/38 [==============================] - 0s 2ms/step - loss: 0.3385 - accuracy: 0.8519 - val_loss: 0.4226 - val_accuracy: 0.8148\n",
      "Epoch 100/120\n",
      "38/38 [==============================] - 0s 2ms/step - loss: 0.3378 - accuracy: 0.8466 - val_loss: 0.4322 - val_accuracy: 0.8272\n",
      "Epoch 101/120\n",
      "38/38 [==============================] - 0s 2ms/step - loss: 0.3392 - accuracy: 0.8571 - val_loss: 0.4156 - val_accuracy: 0.8148\n",
      "Epoch 102/120\n",
      "38/38 [==============================] - 0s 2ms/step - loss: 0.3393 - accuracy: 0.8571 - val_loss: 0.4218 - val_accuracy: 0.8395\n",
      "Epoch 103/120\n",
      "38/38 [==============================] - 0s 2ms/step - loss: 0.3389 - accuracy: 0.8519 - val_loss: 0.4281 - val_accuracy: 0.8025\n",
      "Epoch 104/120\n",
      "38/38 [==============================] - 0s 2ms/step - loss: 0.3423 - accuracy: 0.8519 - val_loss: 0.4172 - val_accuracy: 0.8148\n",
      "Epoch 105/120\n",
      "38/38 [==============================] - 0s 2ms/step - loss: 0.3380 - accuracy: 0.8413 - val_loss: 0.4348 - val_accuracy: 0.8025\n",
      "Epoch 106/120\n",
      "38/38 [==============================] - 0s 2ms/step - loss: 0.3373 - accuracy: 0.8519 - val_loss: 0.4208 - val_accuracy: 0.8272\n",
      "Epoch 107/120\n",
      "38/38 [==============================] - 0s 3ms/step - loss: 0.3388 - accuracy: 0.8571 - val_loss: 0.4149 - val_accuracy: 0.8272\n",
      "Epoch 108/120\n",
      "38/38 [==============================] - 0s 2ms/step - loss: 0.3364 - accuracy: 0.8571 - val_loss: 0.4238 - val_accuracy: 0.8148\n",
      "Epoch 109/120\n",
      "38/38 [==============================] - 0s 2ms/step - loss: 0.3392 - accuracy: 0.8519 - val_loss: 0.4248 - val_accuracy: 0.8272\n",
      "Epoch 110/120\n",
      "38/38 [==============================] - 0s 2ms/step - loss: 0.3371 - accuracy: 0.8519 - val_loss: 0.4227 - val_accuracy: 0.8272\n",
      "Epoch 111/120\n",
      "38/38 [==============================] - 0s 2ms/step - loss: 0.3376 - accuracy: 0.8466 - val_loss: 0.4226 - val_accuracy: 0.8272\n",
      "Epoch 112/120\n",
      "38/38 [==============================] - 0s 2ms/step - loss: 0.3414 - accuracy: 0.8571 - val_loss: 0.4247 - val_accuracy: 0.8272\n",
      "Epoch 113/120\n",
      "38/38 [==============================] - 0s 3ms/step - loss: 0.3364 - accuracy: 0.8571 - val_loss: 0.4257 - val_accuracy: 0.8272\n",
      "Epoch 114/120\n",
      "38/38 [==============================] - 0s 3ms/step - loss: 0.3364 - accuracy: 0.8571 - val_loss: 0.4295 - val_accuracy: 0.8272\n",
      "Epoch 115/120\n",
      "38/38 [==============================] - 0s 2ms/step - loss: 0.3404 - accuracy: 0.8571 - val_loss: 0.4148 - val_accuracy: 0.8272\n",
      "Epoch 116/120\n",
      "38/38 [==============================] - 0s 2ms/step - loss: 0.3373 - accuracy: 0.8466 - val_loss: 0.4245 - val_accuracy: 0.8272\n",
      "Epoch 117/120\n",
      "38/38 [==============================] - 0s 2ms/step - loss: 0.3367 - accuracy: 0.8571 - val_loss: 0.4247 - val_accuracy: 0.8272\n",
      "Epoch 118/120\n",
      "38/38 [==============================] - 0s 2ms/step - loss: 0.3371 - accuracy: 0.8519 - val_loss: 0.4199 - val_accuracy: 0.8148\n",
      "Epoch 119/120\n",
      "38/38 [==============================] - 0s 2ms/step - loss: 0.3371 - accuracy: 0.8466 - val_loss: 0.4180 - val_accuracy: 0.8148\n",
      "Epoch 120/120\n",
      "38/38 [==============================] - 0s 3ms/step - loss: 0.3371 - accuracy: 0.8571 - val_loss: 0.4163 - val_accuracy: 0.8272\n"
     ]
    }
   ],
   "source": [
    "history=Dense_model.fit(x_train_mlp, y_train_mlp, epochs=120, batch_size=5,validation_data=(x_test_mlp,y_test_mlp),shuffle=True)"
   ]
  },
  {
   "cell_type": "code",
   "execution_count": 48,
   "id": "accessory-domain",
   "metadata": {},
   "outputs": [],
   "source": [
    "pred = Dense_model.predict(x_test_mlp)"
   ]
  },
  {
   "cell_type": "code",
   "execution_count": 49,
   "id": "alleged-option",
   "metadata": {},
   "outputs": [],
   "source": [
    "y_pre= np.argmax(pred,axis=1)"
   ]
  },
  {
   "cell_type": "code",
   "execution_count": 50,
   "id": "spatial-agenda",
   "metadata": {},
   "outputs": [
    {
     "name": "stdout",
     "output_type": "stream",
     "text": [
      "                    Classification report of MLP \n",
      "                    -----------------------------\n",
      "              precision    recall  f1-score   support\n",
      "\n",
      "           0       0.82      0.92      0.87        49\n",
      "           1       0.85      0.69      0.76        32\n",
      "\n",
      "    accuracy                           0.83        81\n",
      "   macro avg       0.83      0.80      0.81        81\n",
      "weighted avg       0.83      0.83      0.82        81\n",
      "\n"
     ]
    }
   ],
   "source": [
    "print ('                    Classification report of MLP ')\n",
    "print ('                    -----------------------------')\n",
    "print(classification_report(y_test_mlp,y_pre))"
   ]
  },
  {
   "cell_type": "code",
   "execution_count": 51,
   "id": "intelligent-plate",
   "metadata": {},
   "outputs": [
    {
     "data": {
      "text/plain": [
       "Text(0.5, 1.0, 'Confusion matrix for MLP Algorithm')"
      ]
     },
     "execution_count": 51,
     "metadata": {},
     "output_type": "execute_result"
    },
    {
     "data": {
      "image/png": "[encoded data removed]",
      "text/plain": [
       "<Figure size 504x360 with 2 Axes>"
      ]
     },
     "metadata": {
      "needs_background": "light"
     },
     "output_type": "display_data"
    }
   ],
   "source": [
    "# #Creating the Confusion matrix  \n",
    "cm_mlp= confusion_matrix(y_test, y_pre) \n",
    "\n",
    "# # heatmap of confusion matrix\n",
    "plt.figure(figsize=(7,5))\n",
    "sns.heatmap(cm_mlp, annot=True)\n",
    "plt.xlabel('Predicted')\n",
    "plt.ylabel('Truth')\n",
    "plt.title(\"Confusion matrix for MLP Algorithm\")"
   ]
  },
  {
   "cell_type": "code",
   "execution_count": 52,
   "id": "abandoned-patio",
   "metadata": {
    "scrolled": true
   },
   "outputs": [
    {
     "name": "stdout",
     "output_type": "stream",
     "text": [
      "Models accuracy and loss in kaggles's dataset\n"
     ]
    },
    {
     "data": {
      "image/png": "[encoded data removed]",
      "text/plain": [
       "<Figure size 432x288 with 1 Axes>"
      ]
     },
     "metadata": {
      "needs_background": "light"
     },
     "output_type": "display_data"
    },
    {
     "data": {
      "image/png": "[encoded data removed]",
      "text/plain": [
       "<Figure size 432x288 with 1 Axes>"
      ]
     },
     "metadata": {
      "needs_background": "light"
     },
     "output_type": "display_data"
    }
   ],
   "source": [
    "print(\"Models accuracy and loss in kaggles's dataset\")\n",
    "#print(history.history.keys())\n",
    "#  \"Accuracy\"\n",
    "plt.plot(history.history['accuracy'])\n",
    "plt.plot(history.history['val_accuracy'])\n",
    "plt.title('model accuracy')\n",
    "plt.ylabel('accuracy')\n",
    "plt.xlabel('epochs')\n",
    "plt.legend(['training', 'validation'], loc='upper left')\n",
    "plt.show()\n",
    "\n",
    "# \"Loss\"\n",
    "plt.plot(history.history['loss'])\n",
    "plt.plot(history.history['val_loss'])\n",
    "plt.title('model loss')\n",
    "plt.ylabel('loss')\n",
    "plt.xlabel('epochs')\n",
    "plt.legend(['training', 'validation'], loc='upper left')\n",
    "plt.show()\n"
   ]
  }
 ],
 "metadata": {
  "kernelspec": {
   "display_name": "Python 3 (ipykernel)",
   "language": "python",
   "name": "python3"
  },
  "language_info": {
   "codemirror_mode": {
    "name": "ipython",
    "version": 3
   },
   "file_extension": ".py",
   "mimetype": "text/x-python",
   "name": "python",
   "nbconvert_exporter": "python",
   "pygments_lexer": "ipython3",
   "version": "3.9.7"
  }
 },
 "nbformat": 4,
 "nbformat_minor": 5
}
